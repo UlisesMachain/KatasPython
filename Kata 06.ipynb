{
 "cells": [
  {
   "cell_type": "markdown",
   "metadata": {},
   "source": [
    "# Ejercicio 1 "
   ]
  },
  {
   "cell_type": "code",
   "execution_count": 4,
   "metadata": {},
   "outputs": [
    {
     "name": "stdout",
     "output_type": "stream",
     "text": [
      "Hay un total de 9 planetas en el sistema solar\n",
      "Y el ultimo planeta es Pluton\n"
     ]
    }
   ],
   "source": [
    "planets = ['Mercurio', 'Venus', 'Tierra', 'Marte', 'Jupiter', 'Saturno', 'Urano', 'Neptuno']\n",
    "\n",
    "planets.append('Pluton')\n",
    "\n",
    "planetas_totales = len(planets) #agrega conteo de planetas, crear nueva variable\n",
    "\n",
    "print('Hay un total de', planetas_totales, 'planetas en el sistema solar')\n",
    "\n",
    "print('Y el ultimo planeta es', planets[-1])\n"
   ]
  },
  {
   "cell_type": "markdown",
   "metadata": {},
   "source": [
    "# Ejercicio 2"
   ]
  },
  {
   "cell_type": "code",
   "execution_count": 7,
   "metadata": {},
   "outputs": [
    {
     "name": "stdout",
     "output_type": "stream",
     "text": [
      "Los planetas mas cercanos de jupiter al sol son:  ['mercurio', 'venus', 'tierra', 'marte']\n",
      "Y los planetas mas lejanos son:  ['saturno', 'urano', 'neptuno']\n"
     ]
    }
   ],
   "source": [
    "planets = ['mercurio', 'venus', 'tierra', 'marte', 'jupiter', 'saturno', 'urano', 'neptuno']\n",
    "\n",
    "entrada = input('introduzca el nombre de un planeta <minusculas por favor>: ')\n",
    "\n",
    "indice_planetas = planets.index(entrada)\n",
    "\n",
    "print('Los planetas mas cercanos de', entrada, 'al sol son: ', planets[0:indice_planetas])\n",
    "\n",
    "print('Y los planetas mas lejanos son: ',planets[indice_planetas+1:])\n"
   ]
  }
 ],
 "metadata": {
  "interpreter": {
   "hash": "ac59ebe37160ed0dfa835113d9b8498d9f09ceb179beaac4002f036b9467c963"
  },
  "kernelspec": {
   "display_name": "Python 3.9.5 64-bit",
   "language": "python",
   "name": "python3"
  },
  "language_info": {
   "codemirror_mode": {
    "name": "ipython",
    "version": 3
   },
   "file_extension": ".py",
   "mimetype": "text/x-python",
   "name": "python",
   "nbconvert_exporter": "python",
   "pygments_lexer": "ipython3",
   "version": "3.9.5"
  },
  "orig_nbformat": 4
 },
 "nbformat": 4,
 "nbformat_minor": 2
}
