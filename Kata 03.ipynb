{
 "cells": [
  {
   "cell_type": "markdown",
   "metadata": {},
   "source": [
    "# Ejercicio - Escribir declaraciones if, else, y elif"
   ]
  },
  {
   "cell_type": "code",
   "execution_count": 108,
   "metadata": {},
   "outputs": [
    {
     "name": "stdout",
     "output_type": "stream",
     "text": [
      "WARRING!!! WARRING!!! ASTEROID APPROACHING\n"
     ]
    }
   ],
   "source": [
    "WARR = 25\n",
    "ASTER = 25\n",
    "\n",
    "if ASTER >= WARR:\n",
    "    print(\"WARRING!!! WARRING!!! ASTEROID APPROACHING\") \n",
    "else:\n",
    "    print(\"Have a nice day\")"
   ]
  },
  {
   "cell_type": "code",
   "execution_count": 88,
   "metadata": {},
   "outputs": [
    {
     "name": "stdout",
     "output_type": "stream",
     "text": [
      "¡Un asteroide visible en el cielo se dirige a la\n",
      "tierra cerca del limite de velocidad permitido!\n"
     ]
    }
   ],
   "source": [
    "vel = 20\n",
    "aster = 19\n",
    "if aster <= vel:\n",
    "    if aster >= 18:\n",
    "        print('''¡Un asteroide visible en el cielo se dirige a la\n",
    "tierra cerca del limite de velocidad permitido!''')\n",
    "    else:\n",
    "        print(\"Tenga un buen dia\")\n",
    "elif aster > vel:\n",
    "    print(\"Asteroide aproximandose a la Tierra\")\n",
    "else:\n",
    "    print()"
   ]
  },
  {
   "cell_type": "code",
   "execution_count": 84,
   "metadata": {},
   "outputs": [
    {
     "name": "stdout",
     "output_type": "stream",
     "text": [
      "asteroide mayor a 25km/s o mas acercandose\n"
     ]
    }
   ],
   "source": [
    "tam = 24\n",
    "vel = 26\n",
    "\n",
    "if vel >= 25 and tam >= 25:\n",
    "    print(\"asteroide de alta velocidad y tamaño se aproxima a la tierra\")\n",
    "elif vel >= 25 and tam < 25:\n",
    "    print (\"asteroide mayor a 25km/s o mas acercandose\")\n",
    "elif tam >= 25:\n",
    "    print (\"Asteroide de 25m de diametro se desintegrara en la admosfera\")\n",
    "else:\n",
    "    print(\"tenga un buen dia\")\n"
   ]
  }
 ],
 "metadata": {
  "interpreter": {
   "hash": "ac59ebe37160ed0dfa835113d9b8498d9f09ceb179beaac4002f036b9467c963"
  },
  "kernelspec": {
   "display_name": "Python 3.9.5 64-bit",
   "language": "python",
   "name": "python3"
  },
  "language_info": {
   "codemirror_mode": {
    "name": "ipython",
    "version": 3
   },
   "file_extension": ".py",
   "mimetype": "text/x-python",
   "name": "python",
   "nbconvert_exporter": "python",
   "pygments_lexer": "ipython3",
   "version": "3.9.5"
  },
  "orig_nbformat": 4
 },
 "nbformat": 4,
 "nbformat_minor": 2
}
